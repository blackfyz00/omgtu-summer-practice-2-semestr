{
 "cells": [
  {
   "cell_type": "code",
   "execution_count": 2,
   "metadata": {
    "dotnet_interactive": {
     "language": "csharp"
    },
    "polyglot_notebook": {
     "kernelName": "csharp"
    }
   },
   "outputs": [
    {
     "data": {
      "text/html": [
       "<div><div></div><div></div><div><strong>Installed Packages</strong><ul><li><span>ScottPlot, 5.0.36</span></li></ul></div></div>"
      ]
     },
     "metadata": {},
     "output_type": "display_data"
    },
    {
     "data": {
      "text/plain": [
       "Loading extensions from `C:\\Users\\jarz0\\.nuget\\packages\\skiasharp\\2.88.8\\interactive-extensions\\dotnet\\SkiaSharp.DotNet.Interactive.dll`"
      ]
     },
     "metadata": {},
     "output_type": "display_data"
    }
   ],
   "source": [
    "using System.Threading;\n",
    "using System.Collections.Concurrent;\n",
    "using System.Diagnostics;\n",
    "using Microsoft.DotNet.Interactive.Formatting;\n",
    "#r \"nuget:ScottPlot, 5.0.36\"\n",
    "\n",
    "BlockingCollection<string> queue1 = new BlockingCollection<string>();\n",
    "ConcurrentQueue <string> queue2 = new ConcurrentQueue<string>();\n",
    "Queue<string> queue3 = new Queue<string>();\n",
    "\n",
    "Stopwatch timer = new Stopwatch();\n",
    "Stopwatch timer1 = new Stopwatch();\n",
    "\n",
    "static Semaphore semaphore = new Semaphore(0,2);\n"
   ]
  },
  {
   "cell_type": "code",
   "execution_count": 3,
   "metadata": {
    "dotnet_interactive": {
     "language": "csharp"
    },
    "polyglot_notebook": {
     "kernelName": "csharp"
    }
   },
   "outputs": [
    {
     "name": "stdout",
     "output_type": "stream",
     "text": [
      "Среднее время на чтение-запись BlockingCollection коллекции за 10 итераций = 653.4 мc\n",
      "Среднее время на запись BlockingCollection коллекции за 10 итераций = 339.8 мc\n",
      "Среднее время на чтение BlockingCollection коллекции за 10 итераций = 339.8 мc\n"
     ]
    },
    {
     "data": {
      "text/html": [
       "<img src=\"data:image/png;base64,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\"></img>"
      ]
     },
     "metadata": {},
     "output_type": "display_data"
    }
   ],
   "source": [
    "Formatter.Register(typeof(ScottPlot.Plot), (p, w) => \n",
    "    w.Write(((ScottPlot.Plot)p).GetImageHtml(400, 300)), HtmlFormatter.MimeType);\n",
    "ScottPlot.Plot plot = new();\n",
    "\n",
    "List<long> times = new List<long>();\n",
    "List<long> readtimes = new List<long>();\n",
    "List<long> writetimes = new List<long>();\n",
    "\n",
    "for(int iteration=0;iteration<10;iteration++)\n",
    "{\n",
    "    Thread thr = new (() =>\n",
    "    {\n",
    "        semaphore.WaitOne();\n",
    "        timer.Restart();\n",
    "        for(int i =0;i<1e6;i++)\n",
    "        {\n",
    "            queue1.Add(\"abc123\");\n",
    "        }\n",
    "        timer.Stop();\n",
    "    });\n",
    "\n",
    "    Thread thr1 = new (() =>\n",
    "    {\n",
    "        semaphore.WaitOne();\n",
    "        timer1.Restart();\n",
    "        for(int i =0;i<1e6;i++)\n",
    "        {\n",
    "            var v = queue1.Take();\n",
    "        }\n",
    "        timer1.Stop();\n",
    "    });\n",
    "\n",
    "    thr.Start();\n",
    "    thr1.Start();\n",
    "    semaphore.Release(2);\n",
    "\n",
    "    thr.Join();\n",
    "    thr1.Join();\n",
    "\n",
    "    var totaltime = timer.ElapsedMilliseconds + timer1.ElapsedMilliseconds;\n",
    "\n",
    "    times.Add(totaltime);\n",
    "    writetimes.Add(timer1.ElapsedMilliseconds);\n",
    "    readtimes.Add(timer1.ElapsedMilliseconds);\n",
    "\n",
    "    plot.Add.Scatter(iteration+1, totaltime);\n",
    "}\n",
    "\n",
    "double sum = 0;\n",
    "List<string[]> sums = new List<string[]>();\n",
    "foreach(var v in times)\n",
    "    sum+=v;\n",
    "sum/=times.Count;\n",
    "sums.Add(new string[] {\"BlockingCollection\", $\"{Convert.ToString(sum)}\"});\n",
    "Console.WriteLine($\"Среднее время на чтение-запись BlockingCollection коллекции за 10 итераций = {sum} мc\");\n",
    "sum=0;\n",
    "foreach(var v in writetimes)\n",
    "    sum+=v;\n",
    "sum/=writetimes.Count;\n",
    "Console.WriteLine($\"Среднее время на запись BlockingCollection коллекции за 10 итераций = {sum} мc\");\n",
    "sum=0;\n",
    "foreach(var v in readtimes)\n",
    "    sum+=v;\n",
    "sum/=readtimes.Count;\n",
    "Console.WriteLine($\"Среднее время на чтение BlockingCollection коллекции за 10 итераций = {sum} мc\");\n",
    "\n",
    "plot\n",
    "\n"
   ]
  },
  {
   "cell_type": "code",
   "execution_count": 4,
   "metadata": {
    "dotnet_interactive": {
     "language": "csharp"
    },
    "polyglot_notebook": {
     "kernelName": "csharp"
    }
   },
   "outputs": [
    {
     "name": "stdout",
     "output_type": "stream",
     "text": [
      "Среднее время на чтение-запись ConcurrentQueue коллекции за 10 итераций = 59.3 мc\n",
      "Среднее время на запись ConcurrentQueue коллекции за 10 итераций = 32.2 мc\n",
      "Среднее время на чтение ConcurrentQueue коллекции за 10 итераций = 32.2 мc\n"
     ]
    },
    {
     "data": {
      "text/html": [
       "<img src=\"data:image/png;base64,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\"></img>"
      ]
     },
     "metadata": {},
     "output_type": "display_data"
    }
   ],
   "source": [
    "plot.Clear();\n",
    "times.Clear();\n",
    "readtimes.Clear();\n",
    "writetimes.Clear();\n",
    "\n",
    "for(int iteration=0;iteration<10;iteration++)\n",
    "{\n",
    "    Thread thr = new (() =>\n",
    "    {\n",
    "        semaphore.WaitOne();\n",
    "        timer.Restart();\n",
    "        for(int i =0;i<1e6;i++)\n",
    "        {\n",
    "            queue2.Enqueue(\"abc123\");\n",
    "        }\n",
    "        timer.Stop();\n",
    "    });\n",
    "\n",
    "    Thread thr1 = new (() =>\n",
    "    {\n",
    "        semaphore.WaitOne();\n",
    "        timer1.Restart();\n",
    "        for(int i =0;i<1e6;i++)\n",
    "        {\n",
    "            var v = \"abc123\";\n",
    "            queue2.TryDequeue(out v);\n",
    "        }\n",
    "        timer1.Stop();\n",
    "    });\n",
    "\n",
    "    thr.Start();\n",
    "    thr1.Start();\n",
    "    semaphore.Release(2);\n",
    "\n",
    "    thr.Join();\n",
    "    thr1.Join();\n",
    "\n",
    "    var totaltime = timer.ElapsedMilliseconds + timer1.ElapsedMilliseconds;\n",
    "    times.Add(totaltime);\n",
    "    writetimes.Add(timer1.ElapsedMilliseconds);\n",
    "    readtimes.Add(timer1.ElapsedMilliseconds);\n",
    "\n",
    "    plot.Add.Scatter(iteration+1, totaltime);\n",
    "}\n",
    "\n",
    "double sum = 0;\n",
    "foreach(var v in times)\n",
    "    sum+=v;\n",
    "sum/=times.Count;\n",
    "sums.Add(new string[] {\"ConcurrentQueue\", $\"{Convert.ToString(sum)}\"});\n",
    "Console.WriteLine($\"Среднее время на чтение-запись ConcurrentQueue коллекции за 10 итераций = {sum} мc\");\n",
    "sum=0;\n",
    "foreach(var v in writetimes)\n",
    "    sum+=v;\n",
    "sum/=writetimes.Count;\n",
    "Console.WriteLine($\"Среднее время на запись ConcurrentQueue коллекции за 10 итераций = {sum} мc\");\n",
    "sum=0;\n",
    "foreach(var v in readtimes)\n",
    "    sum+=v;\n",
    "sum/=readtimes.Count;\n",
    "Console.WriteLine($\"Среднее время на чтение ConcurrentQueue коллекции за 10 итераций = {sum} мc\");\n",
    "\n",
    "plot\n",
    "\n"
   ]
  },
  {
   "cell_type": "code",
   "execution_count": 5,
   "metadata": {
    "dotnet_interactive": {
     "language": "csharp"
    },
    "polyglot_notebook": {
     "kernelName": "csharp"
    }
   },
   "outputs": [
    {
     "name": "stdout",
     "output_type": "stream",
     "text": [
      "Среднее время на чтение-запись Queue коллекции за 10 итераций с синхронизацией потоков = 36.925599999999996 c\n",
      "Среднее время на запись Queue коллекции за 10 итераций = 18.462799999999998 c\n",
      "Среднее время на чтение Queue коллекции за 10 итераций = 18.462799999999998 c\n"
     ]
    },
    {
     "data": {
      "text/html": [
       "<img src=\"data:image/png;base64,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\"></img>"
      ]
     },
     "metadata": {},
     "output_type": "display_data"
    }
   ],
   "source": [
    "static AutoResetEvent thrsig = new AutoResetEvent(false);\n",
    "static AutoResetEvent thr1sig = new AutoResetEvent(true);\n",
    "\n",
    "plot.Clear();\n",
    "times.Clear();\n",
    "readtimes.Clear();\n",
    "writetimes.Clear();\n",
    "\n",
    "for(int iteration=0;iteration<10;iteration++)\n",
    "{\n",
    "    Thread thr = new (() =>\n",
    "    {\n",
    "        semaphore.WaitOne();\n",
    "        timer.Restart();\n",
    "        for(int i =0;i<1e6;i++)\n",
    "        {\n",
    "            thr1sig.WaitOne();\n",
    "            queue3.Enqueue(\"abc123\");\n",
    "            thrsig.Set();\n",
    "        }\n",
    "        timer.Stop();\n",
    "    });\n",
    "\n",
    "    Thread thr1 = new (() =>\n",
    "    {\n",
    "        semaphore.WaitOne();\n",
    "        timer1.Restart();\n",
    "        for(int i =0;i<1e6;i++)\n",
    "        {\n",
    "            thrsig.WaitOne();\n",
    "            var v = queue3.Dequeue();\n",
    "            thr1sig.Set();\n",
    "        }\n",
    "        timer1.Stop();\n",
    "    });\n",
    "\n",
    "    thr.Start();\n",
    "    thr1.Start();\n",
    "    semaphore.Release(2);\n",
    "\n",
    "    thr.Join();\n",
    "    thr1.Join();\n",
    "\n",
    "    var totaltime = timer.ElapsedMilliseconds + timer1.ElapsedMilliseconds;\n",
    "    times.Add(totaltime);\n",
    "    writetimes.Add(timer1.ElapsedMilliseconds);\n",
    "    readtimes.Add(timer1.ElapsedMilliseconds);\n",
    "\n",
    "    plot.Add.Scatter(iteration+1, totaltime/1000);\n",
    "}\n",
    "\n",
    "double sum = 0;\n",
    "foreach(var v in times)\n",
    "    sum+=v;\n",
    "sum/=times.Count;\n",
    "sums.Add(new string[] {\"Queue\", $\"{Convert.ToString(sum)}\"});\n",
    "Console.WriteLine($\"Среднее время на чтение-запись Queue коллекции за 10 итераций с синхронизацией потоков = {sum/1000} c\");\n",
    "sum=0;\n",
    "foreach(var v in writetimes)\n",
    "    sum+=v;\n",
    "sum/=writetimes.Count;\n",
    "Console.WriteLine($\"Среднее время на запись Queue коллекции за 10 итераций = {sum/1000} c\");\n",
    "sum=0;\n",
    "foreach(var v in readtimes)\n",
    "    sum+=v;\n",
    "sum/=readtimes.Count;\n",
    "Console.WriteLine($\"Среднее время на чтение Queue коллекции за 10 итераций = {sum/1000} c\");\n",
    "\n",
    "plot\n",
    "\n"
   ]
  },
  {
   "cell_type": "code",
   "execution_count": 42,
   "metadata": {
    "dotnet_interactive": {
     "language": "csharp"
    },
    "polyglot_notebook": {
     "kernelName": "csharp"
    }
   },
   "outputs": [
    {
     "name": "stdout",
     "output_type": "stream",
     "text": [
      "Наиболее эффективная коллекция по времени работы - ConcurrentQueue с временем работы = 59.3 мс\n",
      "Разница в быстродействии составляет: 62169 %\n"
     ]
    }
   ],
   "source": [
    "sums = sums.OrderBy(x => Convert.ToDouble(x[1])).ToList();\n",
    "Console.WriteLine($\"Наиболее эффективная коллекция по времени работы - {sums[0][0]} с временем работы = {sums[0][1]} мс\");\n",
    "Console.WriteLine($\"Разница в быстродействии составляет: {Math.Round((Convert.ToDouble(sums[sums.Count-1][1])/Convert.ToDouble(sums[0][1]) - 1) *100)} %\");"
   ]
  }
 ],
 "metadata": {
  "kernelspec": {
   "display_name": ".NET (C#)",
   "language": "C#",
   "name": ".net-csharp"
  },
  "polyglot_notebook": {
   "kernelInfo": {
    "defaultKernelName": "csharp",
    "items": [
     {
      "aliases": [],
      "languageName": "csharp",
      "name": "csharp"
     }
    ]
   }
  }
 },
 "nbformat": 4,
 "nbformat_minor": 2
}
