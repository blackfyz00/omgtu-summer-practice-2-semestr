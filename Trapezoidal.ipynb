{
 "cells": [
  {
   "cell_type": "code",
   "execution_count": null,
   "metadata": {
    "dotnet_interactive": {
     "language": "csharp"
    },
    "polyglot_notebook": {
     "kernelName": "csharp"
    }
   },
   "outputs": [],
   "source": [
    "using System.Threading;\n",
    "using System.Diagnostics;\n",
    "#!csharp\n",
    "#r \"nuget: xunit, 2.8.1\"\n",
    "using Xunit;\n",
    "\n",
    "class DefiniteIntegral\n",
    "{\n",
    "    public static double Solve(double a, double b, Func<double, double> function, double step, int threadsnumber)\n",
    "    {\n",
    "        double answ = 0;\n",
    "        List<double> split = new List<double>();\n",
    "        double splitvar = (b - a) / threadsnumber;\n",
    "        split.Add(a);\n",
    "        for (int i = 1; i < threadsnumber + 1; i++)\n",
    "        {\n",
    "            split.Add(a + i * splitvar);\n",
    "        }\n",
    "        Thread[] thr = new Thread[threadsnumber];\n",
    "        List<double> splitres = new List<double>();\n",
    "        for (int i = 0; i < threadsnumber; i++)\n",
    "        {\n",
    "            thr[i] = new Thread(() =>\n",
    "            {\n",
    "                int numb = Convert.ToInt32((split[i + 1] - split[i]) / step);\n",
    "                double step1 = (split[i+1] - split[i]) / numb;\n",
    "                double res = 0;\n",
    "\n",
    "                for (int k = 0; k < numb; k++)\n",
    "                {\n",
    "                    res += Math.Round(function(split[i] + step * k),3);\n",
    "                }\n",
    "                res *= step1;\n",
    "                splitres.Add(res);\n",
    "            });\n",
    "            thr[i].Start();\n",
    "            thr[i].Join();\n",
    "        }    \n",
    "        foreach (var v in splitres)\n",
    "            answ += v;\n",
    "\n",
    "        return answ;\n",
    "    }\n",
    "}"
   ]
  },
  {
   "cell_type": "code",
   "execution_count": null,
   "metadata": {
    "dotnet_interactive": {
     "language": "csharp"
    },
    "polyglot_notebook": {
     "kernelName": "csharp"
    }
   },
   "outputs": [],
   "source": [
    "var X =(double x) => x;\n",
    "var answ = DefiniteIntegral.Solve(-1, 1, X, 1e-4, 2);\n",
    "Console.WriteLine(answ);\n",
    "Assert.Equal(0, DefiniteIntegral.Solve(-1, 1, X, 1e-4, 2), 1e-4);"
   ]
  }
 ],
 "metadata": {
  "kernelspec": {
   "display_name": ".NET (C#)",
   "language": "C#",
   "name": ".net-csharp"
  },
  "polyglot_notebook": {
   "kernelInfo": {
    "defaultKernelName": "csharp",
    "items": [
     {
      "aliases": [],
      "languageName": "csharp",
      "name": "csharp"
     }
    ]
   }
  }
 },
 "nbformat": 4,
 "nbformat_minor": 2
}
