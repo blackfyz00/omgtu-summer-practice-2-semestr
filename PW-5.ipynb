{
 "cells": [
  {
   "cell_type": "code",
   "execution_count": 2,
   "metadata": {
    "dotnet_interactive": {
     "language": "csharp"
    },
    "polyglot_notebook": {
     "kernelName": "csharp"
    }
   },
   "outputs": [
    {
     "data": {
      "text/html": [
       "<div><div></div><div></div><div><strong>Installed Packages</strong><ul><li><span>xunit, 2.8.1</span></li></ul></div></div>"
      ]
     },
     "metadata": {},
     "output_type": "display_data"
    }
   ],
   "source": [
    "#!csharp\n",
    "\n",
    "#r \"nuget: xunit, 2.8.1\"\n",
    "using System.Threading;\n",
    "using Xunit;\n",
    "\n",
    "class Message\n",
    "{\n",
    "    static int messageHandled = 0;\n",
    "    int id;\n",
    "    public Message()\n",
    "    {\n",
    "        id = Thread.CurrentThread.ManagedThreadId;\n",
    "    }\n",
    "\n",
    "    public void Handle()\n",
    "    {\n",
    "        Interlocked.Increment(ref messageHandled);\n",
    "        Assert.NotEqual(id, Thread.CurrentThread.ManagedThreadId);\n",
    "    }\n",
    "\n",
    "    public static void Check()\n",
    "    {\n",
    "        Assert.Equal(200, messageHandled);\n",
    "    }\n",
    "}"
   ]
  },
  {
   "cell_type": "code",
   "execution_count": 4,
   "metadata": {
    "dotnet_interactive": {
     "language": "csharp"
    },
    "polyglot_notebook": {
     "kernelName": "csharp"
    }
   },
   "outputs": [
    {
     "name": "stdout",
     "output_type": "stream",
     "text": [
      "Количество обработанных сообщений в 1 потоке = 100\n",
      "Количество обработанных сообщений в 2 потоке = 100\n"
     ]
    }
   ],
   "source": [
    "#!csharp\n",
    "\n",
    "using System.Collections.Concurrent;\n",
    "\n",
    "var queue1 = new BlockingCollection<Message>(2); //очередь первого потока\n",
    "var queue2 = new BlockingCollection<Message>(2); //очередь второго потока\n",
    "\n",
    "static AutoResetEvent thrsig = new AutoResetEvent(false);\n",
    "static AutoResetEvent thr1sig = new AutoResetEvent(true);\n",
    "\n",
    "queue1.Add(new Message());\n",
    "\n",
    "List<int> count = new List<int>();\n",
    "\n",
    "Thread thr = new (() =>\n",
    "{\n",
    "    for(int i =1;i<101;i++)\n",
    "    {\n",
    "        thr1sig.WaitOne();\n",
    "        var v = queue1.Take();\n",
    "        v.Handle();\n",
    "        queue2.Add(new Message());\n",
    "        i++;\n",
    "        if(i==100) count.Add(i);\n",
    "        thrsig.Set();\n",
    "    }\n",
    "    queue1.Take();\n",
    "});\n",
    "\n",
    "Thread thr1 = new (() =>\n",
    "{\n",
    "    for(int i =1;i<101;i++)\n",
    "    {\n",
    "        thrsig.WaitOne();\n",
    "        var v = queue2.Take();\n",
    "        v.Handle();\n",
    "        queue1.Add(new Message());\n",
    "        i++;\n",
    "        if(i==100) count.Add(i);\n",
    "        thr1sig.Set();\n",
    "    }\n",
    "});\n",
    "\n",
    "thr.Start();\n",
    "thr1.Start();\n",
    "\n",
    "thr.Join();\n",
    "thr1.Join();\n",
    "\n",
    "int i=1;\n",
    "foreach(var v in count)\n",
    "{\n",
    "    Console.WriteLine($\"Количество обработанных сообщений в {i} потоке = \"+v);\n",
    "    i++;\n",
    "}\n",
    "\n",
    "#!csharp\n",
    "\n",
    "Assert.Equal(0, queue1.Count);\n",
    "Assert.Equal(0, queue2.Count);\n",
    "Message.Check();"
   ]
  }
 ],
 "metadata": {
  "kernelspec": {
   "display_name": ".NET (C#)",
   "language": "C#",
   "name": ".net-csharp"
  },
  "polyglot_notebook": {
   "kernelInfo": {
    "defaultKernelName": "csharp",
    "items": [
     {
      "aliases": [],
      "languageName": "csharp",
      "name": "csharp"
     }
    ]
   }
  }
 },
 "nbformat": 4,
 "nbformat_minor": 2
}
