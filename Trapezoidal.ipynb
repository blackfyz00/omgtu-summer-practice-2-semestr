{
 "cells": [
  {
   "cell_type": "code",
   "execution_count": 28,
   "metadata": {
    "dotnet_interactive": {
     "language": "csharp"
    },
    "polyglot_notebook": {
     "kernelName": "csharp"
    }
   },
   "outputs": [
    {
     "data": {
      "text/html": [
       "<div><div></div><div></div><div><strong>Installed Packages</strong><ul><li><span>ScottPlot, 5.0.36</span></li><li><span>xunit, 2.8.1</span></li></ul></div></div>"
      ]
     },
     "metadata": {},
     "output_type": "display_data"
    }
   ],
   "source": [
    "using System.Threading;\n",
    "using System.Diagnostics;\n",
    "using Microsoft.DotNet.Interactive.Formatting;\n",
    "#r \"nuget:ScottPlot, 5.0.36\"\n",
    "#!csharp\n",
    "#r \"nuget: xunit, 2.8.1\"\n",
    "using Xunit;\n",
    "\n",
    "class DefiniteIntegral\n",
    "{\n",
    "    public static double Solve(double a, double b, Func<double, double> function, double step, int threadsnumber)\n",
    "    {\n",
    "        double answ = 0;\n",
    "        double[] split = new double[threadsnumber+1];\n",
    "        double splitvar = (b - a) / threadsnumber;\n",
    "        split[0] = a;\n",
    "        for (int i = 1; i < threadsnumber + 1; i++)\n",
    "        {\n",
    "            split[i] = a + i * splitvar;\n",
    "        }\n",
    "        Thread[] thr = new Thread[threadsnumber];\n",
    "        double[] splitres = new double[threadsnumber];\n",
    "        for (int i = 0; i < threadsnumber; i++)\n",
    "        {\n",
    "            thr[i] = new Thread(() =>\n",
    "            {\n",
    "                int numb = Convert.ToInt32((split[i + 1] - split[i]) / step);\n",
    "                double step1 = (split[i+1] - split[i]) / numb;\n",
    "                double res = 0;\n",
    "\n",
    "                for (int k = 0; k < numb; k++)\n",
    "                {\n",
    "                    res += Math.Round(function(split[i] + step * k),3);\n",
    "                }\n",
    "                res *= step1;\n",
    "                splitres[i] = res;\n",
    "            });\n",
    "            thr[i].Start();\n",
    "            thr[i].Join();\n",
    "        }    \n",
    "        foreach (var v in splitres)\n",
    "            answ += v;\n",
    "\n",
    "        return answ;\n",
    "    }\n",
    "\n",
    "    public static double SolveOneThr(double a, double b, Func<double, double> function,double dx)\n",
    "    {\n",
    "        int numb = Convert.ToInt32((b - a) / dx);\n",
    "        double step = (b - a) / numb;\n",
    "        double res = 0;\n",
    "\n",
    "        for (int i = 0; i < numb; i++)\n",
    "        {\n",
    "            res += function(a + dx * i);\n",
    "        }\n",
    "        res *= step;\n",
    "        return res;\n",
    "    }\n",
    "}"
   ]
  },
  {
   "cell_type": "code",
   "execution_count": null,
   "metadata": {
    "dotnet_interactive": {
     "language": "csharp"
    },
    "polyglot_notebook": {
     "kernelName": "csharp"
    }
   },
   "outputs": [],
   "source": [
    "var X =(double x) => x;\n",
    "var answ = DefiniteIntegral.Solve(-1, 1, X, 1e-4, 2);\n",
    "Console.WriteLine(answ);\n",
    "Assert.Equal(0, DefiniteIntegral.Solve(-1, 1, X, 1e-4, 2), 1e-4);"
   ]
  },
  {
   "cell_type": "code",
   "execution_count": 74,
   "metadata": {
    "dotnet_interactive": {
     "language": "csharp"
    },
    "polyglot_notebook": {
     "kernelName": "csharp"
    }
   },
   "outputs": [
    {
     "name": "stdout",
     "output_type": "stream",
     "text": [
      "При шаге 1e-1 вычисленное значение = 0.05060000000000048\n",
      "При шаге 1e-2 вычисленное значение = 0.005059999999999343\n",
      "При шаге 1e-3 вычисленное значение = 0.0005059999999993819\n",
      "При шаге 1e-4 вычисленное значение = 5.060000000220444E-05\n",
      "При шаге 1e-5 вычисленное значение = 5.059999995352116E-06\n",
      "При шаге 1e-6 вычисленное значение = 5.060000118628505E-07\n"
     ]
    }
   ],
   "source": [
    "var SIN =(double x) => Math.Sin(x);\n",
    "double step = 1e-1;\n",
    "string optstep; bool find = false;\n",
    "var answ = DefiniteIntegral.Solve(-100, 100, SIN, step, 4);\n",
    "Console.WriteLine($\"При шаге 1e-1 вычисленное значение = {answ}\");\n",
    "for(int i=2; i<7;i++)\n",
    "{\n",
    "    string step1 = \"1e-\"+Convert.ToString(i);\n",
    "    step = Convert.ToDouble(step1);\n",
    "    answ = DefiniteIntegral.Solve(-100, 100, SIN, step, 4);\n",
    "    Console.WriteLine($\"При шаге 1e-{i} вычисленное значение = {answ}\");\n",
    "    if(answ*10000 < 1 && find == false) {optstep = Convert.ToString($\"1e-{i}\"); find = true;}\n",
    "}"
   ]
  },
  {
   "cell_type": "code",
   "execution_count": 41,
   "metadata": {
    "dotnet_interactive": {
     "language": "csharp"
    },
    "polyglot_notebook": {
     "kernelName": "csharp"
    }
   },
   "outputs": [
    {
     "name": "stdout",
     "output_type": "stream",
     "text": [
      "Лучшее время выполнения = 76 мс достигается при 3 количестве потоков\r\n"
     ]
    },
    {
     "data": {
      "text/html": [
       "<img src=\"data:image/png;base64,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\"></img>"
      ]
     },
     "metadata": {},
     "output_type": "display_data"
    }
   ],
   "source": [
    "Formatter.Register(typeof(ScottPlot.Plot), (p, w) => \n",
    "    w.Write(((ScottPlot.Plot)p).GetImageHtml(400, 300)), HtmlFormatter.MimeType);\n",
    "ScottPlot.Plot plot = new();\n",
    "\n",
    "int time = int.MaxValue, nthr = 1;\n",
    "Stopwatch timer = new Stopwatch();\n",
    "\n",
    "for(int threadsnumber = 1; threadsnumber <= 15; threadsnumber++)\n",
    "{\n",
    "    timer.Restart();\n",
    "    DefiniteIntegral.Solve(-100,100,SIN,1e-4,threadsnumber);\n",
    "    timer.Stop();\n",
    "    if(time > timer.ElapsedMilliseconds)\n",
    "    {\n",
    "        nthr = threadsnumber;\n",
    "        time = Convert.ToInt32(timer.ElapsedMilliseconds);\n",
    "    }\n",
    "    plot.Add.Scatter(timer.ElapsedMilliseconds, threadsnumber);\n",
    "}\n",
    "\n",
    "Console.WriteLine($\"Лучшее время выполнения = {time} мс достигается при {nthr} количестве потоков\");\n",
    "plot"
   ]
  },
  {
   "cell_type": "code",
   "execution_count": 44,
   "metadata": {},
   "outputs": [
    {
     "name": "stdout",
     "output_type": "stream",
     "text": [
      "Время работы в однопоточном режиме = 140 мс\r\n"
     ]
    }
   ],
   "source": [
    "timer.Restart();\n",
    "DefiniteIntegral.SolveOneThr(-100,100,SIN,1e-4);\n",
    "timer.Stop();\n",
    "var othr = timer.ElapsedMilliseconds;\n",
    "Console.WriteLine($\"Время работы в однопоточном режиме = {othr} мс\");"
   ]
  },
  {
   "cell_type": "code",
   "execution_count": 76,
   "metadata": {},
   "outputs": [
    {
     "name": "stdout",
     "output_type": "stream",
     "text": [
      "Оптимальный размер шага = 1e-4;\n",
      "Оптимальное количество потоков = 3;\n",
      "Cкорость многопоточной версии = 76 мс, скорость однопоточной версии = 140 мс, скорость многопоточной версии выше на 84 %\n"
     ]
    }
   ],
   "source": [
    "var procent = Convert.ToDouble(othr)/Convert.ToDouble(time);\n",
    "procent = Convert.ToInt32((procent - 1)*100);\n",
    "Dictionary<string,string> Summary = new Dictionary<string,string>()\n",
    "{\n",
    "    {$\"Оптимальный размер шага = \", $\"{optstep};\"},\n",
    "    {$\"Оптимальное количество потоков = \", $\"{nthr};\"},\n",
    "    {$\"Cкорость многопоточной версии = {time} мс, скорость однопоточной версии = {othr} мс, \", $\"скорость многопоточной версии выше на {procent} %\"},\n",
    "}; \n",
    "\n",
    "foreach(var v in Summary)\n",
    "{\n",
    "    Console.WriteLine(v.Key+v.Value);\n",
    "}"
   ]
  }
 ],
 "metadata": {
  "kernelspec": {
   "display_name": ".NET (C#)",
   "language": "C#",
   "name": ".net-csharp"
  },
  "polyglot_notebook": {
   "kernelInfo": {
    "defaultKernelName": "csharp",
    "items": [
     {
      "aliases": [],
      "languageName": "csharp",
      "name": "csharp"
     }
    ]
   }
  }
 },
 "nbformat": 4,
 "nbformat_minor": 2
}
